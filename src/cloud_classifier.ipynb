{
 "cells": [
  {
   "cell_type": "code",
   "execution_count": 1,
   "metadata": {
    "id": "cDypxOfnfDvh"
   },
   "outputs": [],
   "source": [
    "#hide\n",
    "#!pip install voila\n",
    "#!jupyter serverextension enable --sys-prefix voila \n",
    "#!pip install gdown"
   ]
  },
  {
   "cell_type": "code",
   "execution_count": 2,
   "metadata": {
    "id": "rHF4PJk5I1tj"
   },
   "outputs": [],
   "source": [
    "#from fastbook import *\n",
    "from fastai.vision.widgets import *\n",
    "from fastai.vision.all import *\n",
    "import gdown"
   ]
  },
  {
   "cell_type": "code",
   "execution_count": 3,
   "metadata": {
    "id": "Gbu49_Ovq5Ec"
   },
   "outputs": [
    {
     "name": "stderr",
     "output_type": "stream",
     "text": [
      "Downloading...\n",
      "From: https://drive.google.com/u/0/uc?id=14scFpbwLKRQxaPDweSnR5B91pDIYkaRy&\n",
      "To: /home/ben/Projects/Cloud_Classifier/data/model.pkl\n",
      "100%|██████████████████████████████████████| 87.5M/87.5M [00:19<00:00, 4.55MB/s]\n"
     ]
    }
   ],
   "source": [
    "p1 = '../data'\n",
    "path = Path(p1)\n",
    "if 1:\n",
    "    model_url = 'https://drive.google.com/u/0/uc?id=14scFpbwLKRQxaPDweSnR5B91pDIYkaRy&'\n",
    "    gdown.download(model_url, p1 + '/model.pkl')\n",
    "\n",
    "    learn_inf = load_learner(path/'model.pkl', cpu=True)\n",
    "else:\n",
    "    learn_inf = load_learner(path/'export.pkl', cpu=True)\n",
    "\n",
    "cloud_types = ('Cirrus', 'Cirrocumulus', 'Cirrostratus', \n",
    "               'Altocumulus', 'Altostratus', 'Nimbostratus', \n",
    "               'Stratocumulus', 'Stratus', 'Cumulus', \n",
    "               'Cumulonimbus')\n",
    "cloud_height = ('6000 - 12000 m', '6000 - 12000 m', '6000 - 12000 m', \n",
    "                '2100 - 5500 m', '2000 - 6000 m', '600 - 3000 m', \n",
    "                '360 - 2000 m', '0 - 360 m', '360 - 2000 m', \n",
    "                '330 - 2000 m')\n",
    "cloud_rain = ('None', 'None', 'None', \n",
    "              'None', 'None', 'Continuous rain or snow likely', \n",
    "              'Possible light drizzle', 'Possible light drizzle', 'Occasional rain or snow showers', \n",
    "              'Heavy rain and thunderstorms')"
   ]
  },
  {
   "cell_type": "code",
   "execution_count": 4,
   "metadata": {
    "id": "RPmjNIeLrB0A"
   },
   "outputs": [],
   "source": [
    "btn_upload = widgets.FileUpload()\n",
    "#btn_upload"
   ]
  },
  {
   "cell_type": "code",
   "execution_count": 5,
   "metadata": {
    "id": "3cHRrTaEJUam"
   },
   "outputs": [],
   "source": [
    "img = PILImage.create(path/'blank_image.jpg')"
   ]
  },
  {
   "cell_type": "code",
   "execution_count": 6,
   "metadata": {
    "id": "DHjW0wmcrJYC"
   },
   "outputs": [],
   "source": [
    "out_pl = widgets.Output()\n",
    "out_pl.clear_output()\n",
    "with out_pl: display(img.to_thumb(256,256))\n",
    "#out_pl"
   ]
  },
  {
   "cell_type": "code",
   "execution_count": 7,
   "metadata": {
    "id": "siuXFVRArQEw"
   },
   "outputs": [],
   "source": [
    "lbl_pred1 = widgets.Label()\n",
    "lbl_pred2 = widgets.Label()\n",
    "lbl_pred1.value = f'Add an image'\n",
    "lbl_pred2.value = f' '"
   ]
  },
  {
   "cell_type": "code",
   "execution_count": 8,
   "metadata": {
    "id": "Ybdu8MDRrTVu"
   },
   "outputs": [],
   "source": [
    "btn_run = widgets.Button(description='Classify')\n",
    "#btn_run"
   ]
  },
  {
   "cell_type": "code",
   "execution_count": 9,
   "metadata": {
    "id": "ULaYWbUerVxA"
   },
   "outputs": [
    {
     "ename": "SyntaxError",
     "evalue": "invalid syntax (2032174116.py, line 12)",
     "output_type": "error",
     "traceback": [
      "\u001b[0;36m  Input \u001b[0;32mIn [9]\u001b[0;36m\u001b[0m\n\u001b[0;31m    pred = No clear cloud image\u001b[0m\n\u001b[0m              ^\u001b[0m\n\u001b[0;31mSyntaxError\u001b[0m\u001b[0;31m:\u001b[0m invalid syntax\n"
     ]
    }
   ],
   "source": [
    "def on_click_classify(change):\n",
    "    img = PILImage.create(btn_upload.data[-1])\n",
    "    out_pl.clear_output()\n",
    "    with out_pl: display(img.to_thumb(256,256))\n",
    "    pred,pred_idx,probs = learn_inf.predict(img)\n",
    "    for ind in range(len(cloud_types)):\n",
    "        if pred == cloud_types[ind]:\n",
    "            break\n",
    "    height = cloud_height[ind]\n",
    "    rain = cloud_rain[ind]\n",
    "    if probs[pred_idx] < 0.6:\n",
    "        pred = 'No clear cloud image'\n",
    "        height = 'N/A'\n",
    "        rain = 'N/A'\n",
    "    lbl_pred1.value = f'Prediction: {pred}; Probability: {probs[pred_idx]:.04f};'\n",
    "    lbl_pred2.value = f'Cloud base: {height}; Rain: {rain}'\n",
    "\n",
    "btn_run.on_click(on_click_classify)"
   ]
  },
  {
   "cell_type": "code",
   "execution_count": null,
   "metadata": {
    "id": "s2852-FBrdWB"
   },
   "outputs": [],
   "source": [
    "VBox([widgets.Label('Select your cloud!'), \n",
    "      btn_upload, btn_run, out_pl, lbl_pred1, lbl_pred2])"
   ]
  },
  {
   "cell_type": "code",
   "execution_count": null,
   "metadata": {},
   "outputs": [],
   "source": []
  }
 ],
 "metadata": {
  "colab": {
   "authorship_tag": "ABX9TyOtBiQbqrmnk9U7PWy4DyYw",
   "name": "cloud_classifier.ipynb",
   "provenance": []
  },
  "kernelspec": {
   "display_name": "Python 3 (ipykernel)",
   "language": "python",
   "name": "python3"
  },
  "language_info": {
   "codemirror_mode": {
    "name": "ipython",
    "version": 3
   },
   "file_extension": ".py",
   "mimetype": "text/x-python",
   "name": "python",
   "nbconvert_exporter": "python",
   "pygments_lexer": "ipython3",
   "version": "3.9.13"
  }
 },
 "nbformat": 4,
 "nbformat_minor": 1
}
